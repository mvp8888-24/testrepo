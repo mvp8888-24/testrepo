{
 "cells": [
  {
   "cell_type": "markdown",
   "id": "8c2fecea-7270-4dd7-bea3-d92dbb4f2a5a",
   "metadata": {},
   "source": [
    "# Data Science Tools and Ecosystem"
   ]
  },
  {
   "cell_type": "markdown",
   "id": "7ecaf0af-c4ad-4a2c-be13-f8a3e87c0b3e",
   "metadata": {},
   "source": [
    "In this notebook, Data Science Tools and Ecosystem are summarized.\n"
   ]
  },
  {
   "cell_type": "markdown",
   "id": "b10a332d-f45a-42c5-aede-10cfc1d5dd8e",
   "metadata": {},
   "source": [
    "Some of the popular languages that Data Scientists use are:\n",
    "\n",
    "1. Python\n",
    "\n",
    "2. Java\n",
    "\n",
    "3. C++\n",
    "\n",
    "4. C"
   ]
  },
  {
   "cell_type": "markdown",
   "id": "fd9db781-9ac8-413e-b0fa-15232e7bf6ba",
   "metadata": {},
   "source": [
    "Some of the commonly used libraries used by Data Scientists include:\n",
    "\n",
    "1. TensorFlow\n",
    "\n",
    "2. NumPy\n",
    "\n",
    "3. Matplotlib\n",
    "\n",
    "4. scikit-learn\n",
    "\n",
    "5. seaborn\n",
    "\n",
    "6. Keras"
   ]
  },
  {
   "cell_type": "code",
   "execution_count": null,
   "id": "54f25d38-9d81-4bd7-a986-e9f275ab5ad1",
   "metadata": {},
   "outputs": [],
   "source": []
  },
  {
   "cell_type": "markdown",
   "id": "d68857fc-916e-426b-bea8-954e0a800392",
   "metadata": {},
   "source": [
    "| Data Science Tools     |\n",
    "|-------------------------|\n",
    "| Spyder                  |\n",
    "| Jupyter Notebook        |\n",
    "| Google Colab            |\n",
    "| Visual Studio           |\n"
   ]
  },
  {
   "cell_type": "code",
   "execution_count": null,
   "id": "7407a8ac-f72c-4458-ba0b-871a0c754235",
   "metadata": {},
   "outputs": [],
   "source": []
  },
  {
   "cell_type": "markdown",
   "id": "541d51d5-6145-4945-838e-4d809f70a51a",
   "metadata": {},
   "source": [
    "Below are a few examples of evaluating arithmetic expressions in Python.\n"
   ]
  },
  {
   "cell_type": "code",
   "execution_count": 7,
   "id": "4eb07f4f-81d7-44ee-810a-67a3b5f9c727",
   "metadata": {
    "tags": []
   },
   "outputs": [
    {
     "data": {
      "text/plain": [
       "17"
      ]
     },
     "execution_count": 7,
     "metadata": {},
     "output_type": "execute_result"
    }
   ],
   "source": [
    "#This a simple arithmetic expression to mutiply then add integers\n",
    "(3*4)+5"
   ]
  },
  {
   "cell_type": "code",
   "execution_count": null,
   "id": "ecc07d3b-f7d5-4826-a836-0fb6324aa6ba",
   "metadata": {},
   "outputs": [],
   "source": []
  },
  {
   "cell_type": "code",
   "execution_count": 8,
   "id": "c92472a0-e08b-42d5-953c-2b0b3eaff6d0",
   "metadata": {
    "tags": []
   },
   "outputs": [
    {
     "name": "stdout",
     "output_type": "stream",
     "text": [
      "3.3333333333333335\n"
     ]
    }
   ],
   "source": [
    "# This will convert 200 minutes to hours by diving by 60.\n",
    "minutes=200\n",
    "\n",
    "hours=minutes/60\n",
    "\n",
    "print(hours)\n"
   ]
  },
  {
   "cell_type": "code",
   "execution_count": null,
   "id": "72489a36-9bec-4397-8ace-4aaf7f80a3d5",
   "metadata": {},
   "outputs": [],
   "source": []
  },
  {
   "cell_type": "markdown",
   "id": "d4d50245-3008-49bc-8038-18bdf3543abd",
   "metadata": {},
   "source": [
    "__Objectives:__\n",
    "\n",
    "-Data Science Tools and Ecosystem\n",
    "\n",
    "-List of popular Data Science languages\n",
    "\n",
    "-Commonly used libraries by data scientists\n",
    "\n",
    "-Arithmatic expressions used in python\n",
    "\n"
   ]
  },
  {
   "cell_type": "code",
   "execution_count": null,
   "id": "af9b0171-e18b-4943-8be9-a911a42a7cb7",
   "metadata": {},
   "outputs": [],
   "source": []
  },
  {
   "cell_type": "code",
   "execution_count": null,
   "id": "d24678a3-424b-4e21-8bf1-5a111b7163ad",
   "metadata": {},
   "outputs": [],
   "source": []
  },
  {
   "cell_type": "markdown",
   "id": "8d8e55b4-5b2a-4d33-8c0f-6b76df65041b",
   "metadata": {},
   "source": [
    "## Author\n",
    "Vaibhav Mirashe"
   ]
  },
  {
   "cell_type": "code",
   "execution_count": null,
   "id": "8f22446b-cb41-496e-be36-e42a072d55f3",
   "metadata": {},
   "outputs": [],
   "source": []
  }
 ],
 "metadata": {
  "kernelspec": {
   "display_name": "Python",
   "language": "python",
   "name": "conda-env-python-py"
  },
  "language_info": {
   "codemirror_mode": {
    "name": "ipython",
    "version": 3
   },
   "file_extension": ".py",
   "mimetype": "text/x-python",
   "name": "python",
   "nbconvert_exporter": "python",
   "pygments_lexer": "ipython3",
   "version": "3.7.12"
  }
 },
 "nbformat": 4,
 "nbformat_minor": 5
}
